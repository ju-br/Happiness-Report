{
 "cells": [
  {
   "cell_type": "markdown",
   "metadata": {
    "id": "XHnBRDTIMpYp"
   },
   "source": [
    "### 1) Libraries"
   ]
  },
  {
   "cell_type": "code",
   "execution_count": 20,
   "metadata": {
    "id": "rXAj5Bm8Hfnz"
   },
   "outputs": [],
   "source": [
    "# Importing the libraries\n",
    "import pandas as pd\n",
    "import numpy as np\n",
    "import seaborn as sns\n",
    "import requests\n",
    "import socket\n",
    "import plotly.graph_objects as go\n",
    "import plotly.express as px\n",
    "import matplotlib.pyplot as plt\n",
    "from matplotlib.pyplot import figure\n",
    "import bs4 as bs\n",
    "import src.cleaning as src "
   ]
  },
  {
   "cell_type": "markdown",
   "metadata": {
    "id": "TiIAPtw_MtGt"
   },
   "source": [
    "### 2) Getting csv dataset"
   ]
  },
  {
   "cell_type": "code",
   "execution_count": 21,
   "metadata": {
    "id": "6ablfPY9KLZD"
   },
   "outputs": [],
   "source": [
    "# Getting the csv data\n",
    "dataset_historic = pd.read_csv('../World-Happiness-Project2/input/dataset_happiness_historic.csv')\n",
    "dataset_2019 = pd.read_csv('../World-Happiness-Project2/input/dataset_health.csv')"
   ]
  },
  {
   "cell_type": "markdown",
   "metadata": {
    "id": "fuOs-0KWM2JE"
   },
   "source": [
    "### 3)Web scrapping"
   ]
  },
  {
   "cell_type": "code",
   "execution_count": 22,
   "metadata": {
    "id": "CkdD7BD-KO7i"
   },
   "outputs": [],
   "source": [
    "# Getting some tables with web scrapping\n",
    "urls = ['https://worldpopulationreview.com/country-rankings/suicide-rate-by-country',\n",
    "        'https://en.wikipedia.org/wiki/List_of_countries_by_average_yearly_temperature',\n",
    "        'https://en.wikipedia.org/wiki/List_of_countries_by_inequality-adjusted_Human_Development_Index']"
   ]
  },
  {
   "cell_type": "code",
   "execution_count": 23,
   "metadata": {
    "id": "m4kh2gd56nVy"
   },
   "outputs": [],
   "source": [
    "# Function web scrapping\n",
    "def get_table(url):\n",
    "    res = requests.get(url)\n",
    "    html = res.content\n",
    "    soup = bs.BeautifulSoup(html, \"html.parser\")\n",
    "    if url == 'https://en.wikipedia.org/wiki/List_of_countries_by_inequality-adjusted_Human_Development_Index':\n",
    "        df = pd.read_html(html)[2]\n",
    "    else:\n",
    "        df = pd.read_html(html)[0]\n",
    "    return df"
   ]
  },
  {
   "cell_type": "code",
   "execution_count": 24,
   "metadata": {},
   "outputs": [],
   "source": [
    "dataframes = []\n",
    "for i in urls:\n",
    "    dataframes.append(get_table(i))"
   ]
  },
  {
   "cell_type": "markdown",
   "metadata": {
    "id": "jnC7pfTA8IRe"
   },
   "source": [
    "### 4) Cleaning the Data"
   ]
  },
  {
   "cell_type": "code",
   "execution_count": 25,
   "metadata": {
    "id": "XWg6se52CqOf"
   },
   "outputs": [],
   "source": [
    "# Renaming\n",
    "columns = list(dataset_historic.columns)\n",
    "columns[0] = 'Country'\n",
    "dataset_historic.columns = columns"
   ]
  },
  {
   "cell_type": "code",
   "execution_count": 26,
   "metadata": {
    "id": "D7XPwYFe_rWB"
   },
   "outputs": [],
   "source": [
    "# Renaming the columns\n",
    "dataframes[2].columns = ['Inequality', 'Country', 'IHDI', 'HDI', 'Overall loss (%)', 'Growth since 2010']"
   ]
  },
  {
   "cell_type": "code",
   "execution_count": 27,
   "metadata": {
    "id": "E2k1rLAU-F9u"
   },
   "outputs": [],
   "source": [
    "# Merging the datasets\n",
    "dataframe_1 = pd.merge(dataframes[0], dataframes[1], how = \"inner\", on = [\"Country\", \"Country\"])\n",
    "dataframe_2 = pd.merge(dataframe_1, dataframes[2], how = \"inner\", on = [\"Country\", \"Country\"])\n",
    "dataframe_3 = pd.merge(dataframe_2, dataset_2019, how = \"inner\", on = [\"Country\", \"Country\"])\n",
    "dataframe_4 = pd.merge(dataframe_3, dataset_historic.loc[dataset_historic['year'] == 2019], how = \"inner\", on = [\"Country\", \"Country\"])\n",
    "dataset = dataframe_4.copy()"
   ]
  },
  {
   "cell_type": "code",
   "execution_count": 28,
   "metadata": {
    "colab": {
     "base_uri": "https://localhost:8080/"
    },
    "id": "FqdbuTXmBn-a",
    "outputId": "b37e9cf3-2c8a-491f-9f96-67fc21c3d208"
   },
   "outputs": [],
   "source": [
    "# Cleaning de dataset\n",
    "dataset = dataset.dropna()\n"
   ]
  },
  {
   "cell_type": "code",
   "execution_count": 29,
   "metadata": {},
   "outputs": [],
   "source": [
    "#functions from src\n",
    "src.stand_colum_name(dataset)\n",
    "src.temperature(dataset)\n",
    "src.historic_to_float(dataset)\n",
    "src.percent_to_float(dataset)\n",
    "src.to_numeric(dataset)"
   ]
  },
  {
   "cell_type": "code",
   "execution_count": 30,
   "metadata": {
    "id": "Q8-mLCv_KhKP"
   },
   "outputs": [],
   "source": [
    "dataset = dataset[['country', 'life ladder', 'log gdp per capita','social support', \n",
    "                   'healthy life expectancy at birth','freedom to make life choices',\n",
    "                   'generosity','perceptions of corruption', 'positive affect', \n",
    "                   'negative affect', 'total suicide rate','average yearly temperature (1961–1990 celsius)', \n",
    "                   'inequality','anxiety disorders', 'drug use disorders', \n",
    "                   'depression','alcohol use disorders']]"
   ]
  },
  {
   "cell_type": "code",
   "execution_count": 31,
   "metadata": {},
   "outputs": [],
   "source": [
    "dataset.columns= ['country', 'life ladder', 'gdp per capita', 'social support',\n",
    "       'life expectancy', 'freedom to make choices',\n",
    "       'generosity', 'corruption', 'positive affect',\n",
    "       'negative affect', 'total suicide rate',\n",
    "       'average temperature', 'inequality',\n",
    "       'anxiety disorders', 'drug use', 'depression',\n",
    "       'alcohol use']\n"
   ]
  },
  {
   "cell_type": "markdown",
   "metadata": {
    "id": "gj2H95CAoDUC"
   },
   "source": [
    "### 5) Plotting"
   ]
  },
  {
   "cell_type": "markdown",
   "metadata": {
    "id": "Cl5tzJJ6HD1g"
   },
   "source": [
    "#### 5.1) Map"
   ]
  },
  {
   "cell_type": "code",
   "execution_count": 32,
   "metadata": {
    "id": "rP_ThYyKoFnK"
   },
   "outputs": [],
   "source": [
    "# Dataframe plottly\n",
    "df = px.data.gapminder()\n",
    "df_depara = df[['country', 'continent', 'iso_alpha', 'iso_num']]"
   ]
  },
  {
   "cell_type": "code",
   "execution_count": 33,
   "metadata": {},
   "outputs": [],
   "source": [
    "dataset_historic = dataset_historic.sort_values('year')"
   ]
  },
  {
   "cell_type": "code",
   "execution_count": 34,
   "metadata": {
    "id": "d8EWpX1LpLMl"
   },
   "outputs": [],
   "source": [
    "# Adding features\n",
    "continents = []\n",
    "iso_alpha = []\n",
    "iso_num = []\n",
    "\n",
    "for i in range(len(dataset_historic)):\n",
    "    country = dataset_historic.iloc[i]['Country']\n",
    "    try:\n",
    "        continents.append(df_depara.loc[df_depara['country'] == country]['continent'].values[0])\n",
    "    except:\n",
    "        continents.append('No data')\n",
    "    try:\n",
    "        iso_alpha.append(df_depara.loc[df_depara['country'] == country]['iso_alpha'].values[0])\n",
    "    except:\n",
    "        iso_alpha.append('No data')\n",
    "    try:\n",
    "        iso_num.append(df_depara.loc[df_depara['country'] == country]['iso_num'].values[0])\n",
    "    except:\n",
    "        iso_num.append('No data')\n",
    "\n",
    "dataset_historic['continent'] = continents\n",
    "dataset_historic['iso_alpha'] = iso_alpha\n",
    "dataset_historic['iso_num'] = iso_num"
   ]
  },
  {
   "cell_type": "code",
   "execution_count": 35,
   "metadata": {
    "id": "G8Ssz3iirqN7"
   },
   "outputs": [],
   "source": [
    "# Filtering\n",
    "dataset_mapa = dataset_historic.loc[(dataset_historic['continent'] != \"No Data\") & (dataset_historic['iso_alpha'] != \"No Data\") & (dataset_historic['iso_num'] != \"No Data\")]"
   ]
  },
  {
   "cell_type": "code",
   "execution_count": 39,
   "metadata": {
    "colab": {
     "base_uri": "https://localhost:8080/"
    },
    "id": "gTKcuO9atRxc",
    "outputId": "7acdfc8d-6f36-42b8-a42a-be5bba5214e8"
   },
   "outputs": [],
   "source": [
    "# Cleaning\n",
    "dataset_mapa = dataset_mapa.dropna()\n",
    "\n",
    "for i in dataset_mapa.columns:\n",
    "    try:\n",
    "        dataset_mapa[i] = dataset_mapa[i].apply(lambda x: float(x.replace(\",\", \".\")))\n",
    "    except:\n",
    "        pass"
   ]
  },
  {
   "cell_type": "code",
   "execution_count": 40,
   "metadata": {
    "colab": {
     "base_uri": "https://localhost:8080/"
    },
    "id": "awLYcBZVwedc",
    "outputId": "00d96146-17c2-4fd8-89f8-9201ed27582a",
    "scrolled": true
   },
   "outputs": [
    {
     "name": "stdout",
     "output_type": "stream",
     "text": [
      "Choose one from the following:\n",
      "Life Ladder\n",
      "Log GDP per capita\n",
      "Social support\n",
      "Healthy life expectancy at birth\n",
      "Freedom to make life choices\n",
      "Generosity\n",
      "Perceptions of corruption\n",
      "Positive affect\n",
      "Negative affect\n",
      "Generosity\n"
     ]
    }
   ],
   "source": [
    "# Columns to plot\n",
    "numeric_columns = ['Life Ladder', 'Log GDP per capita', 'Social support', 'Healthy life expectancy at birth', 'Freedom to make life choices', 'Generosity', 'Perceptions of corruption', 'Positive affect', 'Negative affect']\n",
    "print('Choose one from the following:')\n",
    "for i in numeric_columns:\n",
    "    print(i, end = '\\n')\n",
    "column = input()"
   ]
  },
  {
   "cell_type": "code",
   "execution_count": 41,
   "metadata": {
    "colab": {
     "base_uri": "https://localhost:8080/"
    },
    "id": "nyA_YuxqtM6a",
    "outputId": "3467505e-4728-4f2e-ed68-cfe441ef2978"
   },
   "outputs": [
    {
     "ename": "ValueError",
     "evalue": "\n    Invalid element(s) received for the 'size' property of scattergeo.marker\n        Invalid elements include: [-0.179, -0.051, -0.307, -0.015, -0.052, -0.041, -0.246, -0.007, -0.011, -0.027]\n\n    The 'size' property is a number and may be specified as:\n      - An int or float in the interval [0, inf]\n      - A tuple, list, or one-dimensional numpy array of the above",
     "output_type": "error",
     "traceback": [
      "\u001b[0;31m---------------------------------------------------------------------------\u001b[0m",
      "\u001b[0;31mValueError\u001b[0m                                Traceback (most recent call last)",
      "Input \u001b[0;32mIn [41]\u001b[0m, in \u001b[0;36m<cell line: 2>\u001b[0;34m()\u001b[0m\n\u001b[1;32m      1\u001b[0m \u001b[38;5;66;03m# Plotando\u001b[39;00m\n\u001b[0;32m----> 2\u001b[0m fig \u001b[38;5;241m=\u001b[39m \u001b[43mpx\u001b[49m\u001b[38;5;241;43m.\u001b[39;49m\u001b[43mscatter_geo\u001b[49m\u001b[43m(\u001b[49m\u001b[43mdataset_mapa\u001b[49m\u001b[43m,\u001b[49m\u001b[43m \u001b[49m\u001b[43mlocations\u001b[49m\u001b[38;5;241;43m=\u001b[39;49m\u001b[38;5;124;43m\"\u001b[39;49m\u001b[38;5;124;43miso_alpha\u001b[39;49m\u001b[38;5;124;43m\"\u001b[39;49m\u001b[43m,\u001b[49m\u001b[43m \u001b[49m\u001b[43mcolor\u001b[49m\u001b[38;5;241;43m=\u001b[39;49m\u001b[38;5;124;43m\"\u001b[39;49m\u001b[38;5;124;43mLife Ladder\u001b[39;49m\u001b[38;5;124;43m\"\u001b[39;49m\u001b[43m,\u001b[49m\n\u001b[1;32m      3\u001b[0m \u001b[43m                     \u001b[49m\u001b[43mhover_name\u001b[49m\u001b[38;5;241;43m=\u001b[39;49m\u001b[38;5;124;43m\"\u001b[39;49m\u001b[38;5;124;43mCountry\u001b[39;49m\u001b[38;5;124;43m\"\u001b[39;49m\u001b[43m,\u001b[49m\u001b[43m \u001b[49m\u001b[43msize\u001b[49m\u001b[38;5;241;43m=\u001b[39;49m\u001b[43mcolumn\u001b[49m\u001b[43m,\u001b[49m\n\u001b[1;32m      4\u001b[0m \u001b[43m                     \u001b[49m\u001b[43manimation_frame\u001b[49m\u001b[38;5;241;43m=\u001b[39;49m\u001b[38;5;124;43m\"\u001b[39;49m\u001b[38;5;124;43myear\u001b[39;49m\u001b[38;5;124;43m\"\u001b[39;49m\u001b[43m,\u001b[49m\n\u001b[1;32m      5\u001b[0m \u001b[43m                     \u001b[49m\u001b[43mprojection\u001b[49m\u001b[38;5;241;43m=\u001b[39;49m\u001b[38;5;124;43m\"\u001b[39;49m\u001b[38;5;124;43mnatural earth\u001b[39;49m\u001b[38;5;124;43m\"\u001b[39;49m\u001b[43m)\u001b[49m\n\u001b[1;32m      7\u001b[0m fig\u001b[38;5;241m.\u001b[39mupdate_layout(width \u001b[38;5;241m=\u001b[39m \u001b[38;5;241m1000\u001b[39m, title \u001b[38;5;241m=\u001b[39m \u001b[38;5;124mf\u001b[39m\u001b[38;5;124m'\u001b[39m\u001b[38;5;124mHow \u001b[39m\u001b[38;5;132;01m{\u001b[39;00mcolumn\u001b[38;5;132;01m}\u001b[39;00m\u001b[38;5;124m changed life ladder through the years 2005 - 2020 \u001b[39m\u001b[38;5;124m'\u001b[39m)\n",
      "File \u001b[0;32m~/opt/anaconda3/envs/Ironhack/lib/python3.8/site-packages/plotly/express/_chart_types.py:1148\u001b[0m, in \u001b[0;36mscatter_geo\u001b[0;34m(data_frame, lat, lon, locations, locationmode, geojson, featureidkey, color, text, symbol, facet_row, facet_col, facet_col_wrap, facet_row_spacing, facet_col_spacing, hover_name, hover_data, custom_data, size, animation_frame, animation_group, category_orders, labels, color_discrete_sequence, color_discrete_map, color_continuous_scale, range_color, color_continuous_midpoint, symbol_sequence, symbol_map, opacity, size_max, projection, scope, center, fitbounds, basemap_visible, title, template, width, height)\u001b[0m\n\u001b[1;32m   1101\u001b[0m \u001b[38;5;28;01mdef\u001b[39;00m \u001b[38;5;21mscatter_geo\u001b[39m(\n\u001b[1;32m   1102\u001b[0m     data_frame\u001b[38;5;241m=\u001b[39m\u001b[38;5;28;01mNone\u001b[39;00m,\n\u001b[1;32m   1103\u001b[0m     lat\u001b[38;5;241m=\u001b[39m\u001b[38;5;28;01mNone\u001b[39;00m,\n\u001b[0;32m   (...)\u001b[0m\n\u001b[1;32m   1142\u001b[0m     height\u001b[38;5;241m=\u001b[39m\u001b[38;5;28;01mNone\u001b[39;00m,\n\u001b[1;32m   1143\u001b[0m ) \u001b[38;5;241m-\u001b[39m\u001b[38;5;241m>\u001b[39m go\u001b[38;5;241m.\u001b[39mFigure:\n\u001b[1;32m   1144\u001b[0m     \u001b[38;5;124;03m\"\"\"\u001b[39;00m\n\u001b[1;32m   1145\u001b[0m \u001b[38;5;124;03m    In a geographic scatter plot, each row of `data_frame` is represented\u001b[39;00m\n\u001b[1;32m   1146\u001b[0m \u001b[38;5;124;03m    by a symbol mark on a map.\u001b[39;00m\n\u001b[1;32m   1147\u001b[0m \u001b[38;5;124;03m    \"\"\"\u001b[39;00m\n\u001b[0;32m-> 1148\u001b[0m     \u001b[38;5;28;01mreturn\u001b[39;00m \u001b[43mmake_figure\u001b[49m\u001b[43m(\u001b[49m\n\u001b[1;32m   1149\u001b[0m \u001b[43m        \u001b[49m\u001b[43margs\u001b[49m\u001b[38;5;241;43m=\u001b[39;49m\u001b[38;5;28;43mlocals\u001b[39;49m\u001b[43m(\u001b[49m\u001b[43m)\u001b[49m\u001b[43m,\u001b[49m\n\u001b[1;32m   1150\u001b[0m \u001b[43m        \u001b[49m\u001b[43mconstructor\u001b[49m\u001b[38;5;241;43m=\u001b[39;49m\u001b[43mgo\u001b[49m\u001b[38;5;241;43m.\u001b[39;49m\u001b[43mScattergeo\u001b[49m\u001b[43m,\u001b[49m\n\u001b[1;32m   1151\u001b[0m \u001b[43m        \u001b[49m\u001b[43mtrace_patch\u001b[49m\u001b[38;5;241;43m=\u001b[39;49m\u001b[38;5;28;43mdict\u001b[39;49m\u001b[43m(\u001b[49m\u001b[43mlocationmode\u001b[49m\u001b[38;5;241;43m=\u001b[39;49m\u001b[43mlocationmode\u001b[49m\u001b[43m)\u001b[49m\u001b[43m,\u001b[49m\n\u001b[1;32m   1152\u001b[0m \u001b[43m    \u001b[49m\u001b[43m)\u001b[49m\n",
      "File \u001b[0;32m~/opt/anaconda3/envs/Ironhack/lib/python3.8/site-packages/plotly/express/_core.py:2170\u001b[0m, in \u001b[0;36mmake_figure\u001b[0;34m(args, constructor, trace_patch, layout_patch)\u001b[0m\n\u001b[1;32m   2165\u001b[0m         group[var] \u001b[38;5;241m=\u001b[39m \u001b[38;5;241m100.0\u001b[39m \u001b[38;5;241m*\u001b[39m group[var] \u001b[38;5;241m/\u001b[39m group_sum\n\u001b[1;32m   2167\u001b[0m patch, fit_results \u001b[38;5;241m=\u001b[39m make_trace_kwargs(\n\u001b[1;32m   2168\u001b[0m     args, trace_spec, group, mapping_labels\u001b[38;5;241m.\u001b[39mcopy(), sizeref\n\u001b[1;32m   2169\u001b[0m )\n\u001b[0;32m-> 2170\u001b[0m \u001b[43mtrace\u001b[49m\u001b[38;5;241;43m.\u001b[39;49m\u001b[43mupdate\u001b[49m\u001b[43m(\u001b[49m\u001b[43mpatch\u001b[49m\u001b[43m)\u001b[49m\n\u001b[1;32m   2171\u001b[0m \u001b[38;5;28;01mif\u001b[39;00m fit_results \u001b[38;5;129;01mis\u001b[39;00m \u001b[38;5;129;01mnot\u001b[39;00m \u001b[38;5;28;01mNone\u001b[39;00m:\n\u001b[1;32m   2172\u001b[0m     trendline_rows\u001b[38;5;241m.\u001b[39mappend(mapping_labels\u001b[38;5;241m.\u001b[39mcopy())\n",
      "File \u001b[0;32m~/opt/anaconda3/envs/Ironhack/lib/python3.8/site-packages/plotly/basedatatypes.py:5124\u001b[0m, in \u001b[0;36mBasePlotlyType.update\u001b[0;34m(self, dict1, overwrite, **kwargs)\u001b[0m\n\u001b[1;32m   5122\u001b[0m         BaseFigure\u001b[38;5;241m.\u001b[39m_perform_update(\u001b[38;5;28mself\u001b[39m, kwargs, overwrite\u001b[38;5;241m=\u001b[39moverwrite)\n\u001b[1;32m   5123\u001b[0m \u001b[38;5;28;01melse\u001b[39;00m:\n\u001b[0;32m-> 5124\u001b[0m     \u001b[43mBaseFigure\u001b[49m\u001b[38;5;241;43m.\u001b[39;49m\u001b[43m_perform_update\u001b[49m\u001b[43m(\u001b[49m\u001b[38;5;28;43mself\u001b[39;49m\u001b[43m,\u001b[49m\u001b[43m \u001b[49m\u001b[43mdict1\u001b[49m\u001b[43m,\u001b[49m\u001b[43m \u001b[49m\u001b[43moverwrite\u001b[49m\u001b[38;5;241;43m=\u001b[39;49m\u001b[43moverwrite\u001b[49m\u001b[43m)\u001b[49m\n\u001b[1;32m   5125\u001b[0m     BaseFigure\u001b[38;5;241m.\u001b[39m_perform_update(\u001b[38;5;28mself\u001b[39m, kwargs, overwrite\u001b[38;5;241m=\u001b[39moverwrite)\n\u001b[1;32m   5127\u001b[0m \u001b[38;5;28;01mreturn\u001b[39;00m \u001b[38;5;28mself\u001b[39m\n",
      "File \u001b[0;32m~/opt/anaconda3/envs/Ironhack/lib/python3.8/site-packages/plotly/basedatatypes.py:3908\u001b[0m, in \u001b[0;36mBaseFigure._perform_update\u001b[0;34m(plotly_obj, update_obj, overwrite)\u001b[0m\n\u001b[1;32m   3902\u001b[0m validator \u001b[38;5;241m=\u001b[39m plotly_obj\u001b[38;5;241m.\u001b[39m_get_prop_validator(key)\n\u001b[1;32m   3904\u001b[0m \u001b[38;5;28;01mif\u001b[39;00m \u001b[38;5;28misinstance\u001b[39m(validator, CompoundValidator) \u001b[38;5;129;01mand\u001b[39;00m \u001b[38;5;28misinstance\u001b[39m(val, \u001b[38;5;28mdict\u001b[39m):\n\u001b[1;32m   3905\u001b[0m \n\u001b[1;32m   3906\u001b[0m     \u001b[38;5;66;03m# Update compound objects recursively\u001b[39;00m\n\u001b[1;32m   3907\u001b[0m     \u001b[38;5;66;03m# plotly_obj[key].update(val)\u001b[39;00m\n\u001b[0;32m-> 3908\u001b[0m     \u001b[43mBaseFigure\u001b[49m\u001b[38;5;241;43m.\u001b[39;49m\u001b[43m_perform_update\u001b[49m\u001b[43m(\u001b[49m\u001b[43mplotly_obj\u001b[49m\u001b[43m[\u001b[49m\u001b[43mkey\u001b[49m\u001b[43m]\u001b[49m\u001b[43m,\u001b[49m\u001b[43m \u001b[49m\u001b[43mval\u001b[49m\u001b[43m)\u001b[49m\n\u001b[1;32m   3909\u001b[0m \u001b[38;5;28;01melif\u001b[39;00m \u001b[38;5;28misinstance\u001b[39m(validator, CompoundArrayValidator):\n\u001b[1;32m   3910\u001b[0m     \u001b[38;5;28;01mif\u001b[39;00m plotly_obj[key]:\n\u001b[1;32m   3911\u001b[0m         \u001b[38;5;66;03m# plotly_obj has an existing non-empty array for key\u001b[39;00m\n\u001b[1;32m   3912\u001b[0m         \u001b[38;5;66;03m# In this case we merge val into the existing elements\u001b[39;00m\n",
      "File \u001b[0;32m~/opt/anaconda3/envs/Ironhack/lib/python3.8/site-packages/plotly/basedatatypes.py:3929\u001b[0m, in \u001b[0;36mBaseFigure._perform_update\u001b[0;34m(plotly_obj, update_obj, overwrite)\u001b[0m\n\u001b[1;32m   3926\u001b[0m                 plotly_obj[key] \u001b[38;5;241m=\u001b[39m val\n\u001b[1;32m   3927\u001b[0m         \u001b[38;5;28;01melse\u001b[39;00m:\n\u001b[1;32m   3928\u001b[0m             \u001b[38;5;66;03m# Assign non-compound value\u001b[39;00m\n\u001b[0;32m-> 3929\u001b[0m             plotly_obj[key] \u001b[38;5;241m=\u001b[39m val\n\u001b[1;32m   3931\u001b[0m \u001b[38;5;28;01melif\u001b[39;00m \u001b[38;5;28misinstance\u001b[39m(plotly_obj, \u001b[38;5;28mtuple\u001b[39m):\n\u001b[1;32m   3933\u001b[0m     \u001b[38;5;28;01mif\u001b[39;00m \u001b[38;5;28mlen\u001b[39m(update_obj) \u001b[38;5;241m==\u001b[39m \u001b[38;5;241m0\u001b[39m:\n\u001b[1;32m   3934\u001b[0m         \u001b[38;5;66;03m# Nothing to do\u001b[39;00m\n",
      "File \u001b[0;32m~/opt/anaconda3/envs/Ironhack/lib/python3.8/site-packages/plotly/basedatatypes.py:4859\u001b[0m, in \u001b[0;36mBasePlotlyType.__setitem__\u001b[0;34m(self, prop, value)\u001b[0m\n\u001b[1;32m   4855\u001b[0m         \u001b[38;5;28mself\u001b[39m\u001b[38;5;241m.\u001b[39m_set_array_prop(prop, value)\n\u001b[1;32m   4857\u001b[0m     \u001b[38;5;66;03m# ### Handle simple property ###\u001b[39;00m\n\u001b[1;32m   4858\u001b[0m     \u001b[38;5;28;01melse\u001b[39;00m:\n\u001b[0;32m-> 4859\u001b[0m         \u001b[38;5;28;43mself\u001b[39;49m\u001b[38;5;241;43m.\u001b[39;49m\u001b[43m_set_prop\u001b[49m\u001b[43m(\u001b[49m\u001b[43mprop\u001b[49m\u001b[43m,\u001b[49m\u001b[43m \u001b[49m\u001b[43mvalue\u001b[49m\u001b[43m)\u001b[49m\n\u001b[1;32m   4860\u001b[0m \u001b[38;5;28;01melse\u001b[39;00m:\n\u001b[1;32m   4861\u001b[0m     \u001b[38;5;66;03m# Make sure properties dict is initialized\u001b[39;00m\n\u001b[1;32m   4862\u001b[0m     \u001b[38;5;28mself\u001b[39m\u001b[38;5;241m.\u001b[39m_init_props()\n",
      "File \u001b[0;32m~/opt/anaconda3/envs/Ironhack/lib/python3.8/site-packages/plotly/basedatatypes.py:5203\u001b[0m, in \u001b[0;36mBasePlotlyType._set_prop\u001b[0;34m(self, prop, val)\u001b[0m\n\u001b[1;32m   5201\u001b[0m         \u001b[38;5;28;01mreturn\u001b[39;00m\n\u001b[1;32m   5202\u001b[0m     \u001b[38;5;28;01melse\u001b[39;00m:\n\u001b[0;32m-> 5203\u001b[0m         \u001b[38;5;28;01mraise\u001b[39;00m err\n\u001b[1;32m   5205\u001b[0m \u001b[38;5;66;03m# val is None\u001b[39;00m\n\u001b[1;32m   5206\u001b[0m \u001b[38;5;66;03m# -----------\u001b[39;00m\n\u001b[1;32m   5207\u001b[0m \u001b[38;5;28;01mif\u001b[39;00m val \u001b[38;5;129;01mis\u001b[39;00m \u001b[38;5;28;01mNone\u001b[39;00m:\n\u001b[1;32m   5208\u001b[0m     \u001b[38;5;66;03m# Check if we should send null update\u001b[39;00m\n",
      "File \u001b[0;32m~/opt/anaconda3/envs/Ironhack/lib/python3.8/site-packages/plotly/basedatatypes.py:5198\u001b[0m, in \u001b[0;36mBasePlotlyType._set_prop\u001b[0;34m(self, prop, val)\u001b[0m\n\u001b[1;32m   5195\u001b[0m validator \u001b[38;5;241m=\u001b[39m \u001b[38;5;28mself\u001b[39m\u001b[38;5;241m.\u001b[39m_get_validator(prop)\n\u001b[1;32m   5197\u001b[0m \u001b[38;5;28;01mtry\u001b[39;00m:\n\u001b[0;32m-> 5198\u001b[0m     val \u001b[38;5;241m=\u001b[39m \u001b[43mvalidator\u001b[49m\u001b[38;5;241;43m.\u001b[39;49m\u001b[43mvalidate_coerce\u001b[49m\u001b[43m(\u001b[49m\u001b[43mval\u001b[49m\u001b[43m)\u001b[49m\n\u001b[1;32m   5199\u001b[0m \u001b[38;5;28;01mexcept\u001b[39;00m \u001b[38;5;167;01mValueError\u001b[39;00m \u001b[38;5;28;01mas\u001b[39;00m err:\n\u001b[1;32m   5200\u001b[0m     \u001b[38;5;28;01mif\u001b[39;00m \u001b[38;5;28mself\u001b[39m\u001b[38;5;241m.\u001b[39m_skip_invalid:\n",
      "File \u001b[0;32m~/opt/anaconda3/envs/Ironhack/lib/python3.8/site-packages/_plotly_utils/basevalidators.py:778\u001b[0m, in \u001b[0;36mNumberValidator.validate_coerce\u001b[0;34m(self, v)\u001b[0m\n\u001b[1;32m    773\u001b[0m             v_invalid \u001b[38;5;241m=\u001b[39m np\u001b[38;5;241m.\u001b[39mlogical_not(v_valid)\n\u001b[1;32m    774\u001b[0m             some_invalid_els \u001b[38;5;241m=\u001b[39m np\u001b[38;5;241m.\u001b[39marray(v, dtype\u001b[38;5;241m=\u001b[39m\u001b[38;5;124m\"\u001b[39m\u001b[38;5;124mobject\u001b[39m\u001b[38;5;124m\"\u001b[39m)[v_invalid][\n\u001b[1;32m    775\u001b[0m                 :\u001b[38;5;241m10\u001b[39m\n\u001b[1;32m    776\u001b[0m             ]\u001b[38;5;241m.\u001b[39mtolist()\n\u001b[0;32m--> 778\u001b[0m             \u001b[38;5;28;43mself\u001b[39;49m\u001b[38;5;241;43m.\u001b[39;49m\u001b[43mraise_invalid_elements\u001b[49m\u001b[43m(\u001b[49m\u001b[43msome_invalid_els\u001b[49m\u001b[43m)\u001b[49m\n\u001b[1;32m    780\u001b[0m     v \u001b[38;5;241m=\u001b[39m v_array  \u001b[38;5;66;03m# Always numeric numpy array\u001b[39;00m\n\u001b[1;32m    781\u001b[0m \u001b[38;5;28;01melif\u001b[39;00m \u001b[38;5;28mself\u001b[39m\u001b[38;5;241m.\u001b[39marray_ok \u001b[38;5;129;01mand\u001b[39;00m is_simple_array(v):\n\u001b[1;32m    782\u001b[0m     \u001b[38;5;66;03m# Check numeric\u001b[39;00m\n",
      "File \u001b[0;32m~/opt/anaconda3/envs/Ironhack/lib/python3.8/site-packages/_plotly_utils/basevalidators.py:304\u001b[0m, in \u001b[0;36mBaseValidator.raise_invalid_elements\u001b[0;34m(self, invalid_els)\u001b[0m\n\u001b[1;32m    302\u001b[0m     \u001b[38;5;28;01mdef\u001b[39;00m \u001b[38;5;21mraise_invalid_elements\u001b[39m(\u001b[38;5;28mself\u001b[39m, invalid_els):\n\u001b[1;32m    303\u001b[0m         \u001b[38;5;28;01mif\u001b[39;00m invalid_els:\n\u001b[0;32m--> 304\u001b[0m             \u001b[38;5;28;01mraise\u001b[39;00m \u001b[38;5;167;01mValueError\u001b[39;00m(\n\u001b[1;32m    305\u001b[0m                 \u001b[38;5;124;03m\"\"\"\u001b[39;00m\n\u001b[1;32m    306\u001b[0m \u001b[38;5;124;03m    Invalid element(s) received for the '{name}' property of {pname}\u001b[39;00m\n\u001b[1;32m    307\u001b[0m \u001b[38;5;124;03m        Invalid elements include: {invalid}\u001b[39;00m\n\u001b[1;32m    308\u001b[0m \n\u001b[1;32m    309\u001b[0m \u001b[38;5;124;03m{valid_clr_desc}\"\"\"\u001b[39;00m\u001b[38;5;241m.\u001b[39mformat(\n\u001b[1;32m    310\u001b[0m                     name\u001b[38;5;241m=\u001b[39m\u001b[38;5;28mself\u001b[39m\u001b[38;5;241m.\u001b[39mplotly_name,\n\u001b[1;32m    311\u001b[0m                     pname\u001b[38;5;241m=\u001b[39m\u001b[38;5;28mself\u001b[39m\u001b[38;5;241m.\u001b[39mparent_name,\n\u001b[1;32m    312\u001b[0m                     invalid\u001b[38;5;241m=\u001b[39minvalid_els[:\u001b[38;5;241m10\u001b[39m],\n\u001b[1;32m    313\u001b[0m                     valid_clr_desc\u001b[38;5;241m=\u001b[39m\u001b[38;5;28mself\u001b[39m\u001b[38;5;241m.\u001b[39mdescription(),\n\u001b[1;32m    314\u001b[0m                 )\n\u001b[1;32m    315\u001b[0m             )\n",
      "\u001b[0;31mValueError\u001b[0m: \n    Invalid element(s) received for the 'size' property of scattergeo.marker\n        Invalid elements include: [-0.179, -0.051, -0.307, -0.015, -0.052, -0.041, -0.246, -0.007, -0.011, -0.027]\n\n    The 'size' property is a number and may be specified as:\n      - An int or float in the interval [0, inf]\n      - A tuple, list, or one-dimensional numpy array of the above"
     ]
    }
   ],
   "source": [
    "# Plotando\n",
    "fig = px.scatter_geo(dataset_mapa, locations=\"iso_alpha\", color=\"Life Ladder\",\n",
    "                     hover_name=\"Country\", size=column,\n",
    "                     animation_frame=\"year\",\n",
    "                     projection=\"natural earth\")\n",
    "\n",
    "fig.update_layout(width = 1000, title = f'How {column} changed life ladder through the years 2005 - 2020 ')"
   ]
  },
  {
   "cell_type": "markdown",
   "metadata": {
    "id": "nB29vANTHGPs"
   },
   "source": [
    "#### 5.2) Correlation"
   ]
  },
  {
   "cell_type": "code",
   "execution_count": null,
   "metadata": {},
   "outputs": [],
   "source": [
    "dataset_happy=dataset.drop(['total suicide rate', 'average temperature', 'inequality',\n",
    "       'anxiety disorders', 'drug use', 'depression', 'alcohol use'], axis=1)"
   ]
  },
  {
   "cell_type": "code",
   "execution_count": null,
   "metadata": {},
   "outputs": [],
   "source": [
    "dataset_happy.columns"
   ]
  },
  {
   "cell_type": "code",
   "execution_count": null,
   "metadata": {
    "scrolled": false
   },
   "outputs": [],
   "source": [
    "corrmat = dataset_happy[1:].corr()\n",
    "mask = np.triu(np.ones_like(corrmat, dtype=bool)) \n",
    "top_corr_features = corrmat.index\n",
    "plt.figure(figsize = (10, 10))\n",
    "\n",
    "sns.heatmap(corrmat,  \n",
    "            mask = mask,\n",
    "            cmap='RdYlGn',\n",
    "            square=True, \n",
    "            linewidth=0.5, \n",
    "            annot = True,\n",
    "            vmax=1,\n",
    "            cbar_kws={\"shrink\": .5})\n",
    "\n"
   ]
  },
  {
   "cell_type": "code",
   "execution_count": null,
   "metadata": {},
   "outputs": [],
   "source": [
    "dataset_new_var=dataset.drop(['gdp per capita', 'social support',\n",
    "       'life expectancy', 'freedom to make choices', 'generosity',\n",
    "       'corruption', 'positive affect', 'negative affect'], axis=1)"
   ]
  },
  {
   "cell_type": "raw",
   "metadata": {},
   "source": [
    "corrmat = dataset_new_var[1:].corr()\n",
    "mask = np.triu(np.ones_like(corrmat, dtype=bool)) \n",
    "top_corr_features = corrmat.index\n",
    "plt.figure(figsize = (10, 10))\n",
    "\n",
    "sns.heatmap(corrmat,  \n",
    "            mask = mask,\n",
    "            cmap='RdYlGn',\n",
    "            square=True, \n",
    "            linewidth=0.5, \n",
    "            annot = True,\n",
    "            vmax=1,\n",
    "            cbar_kws={\"shrink\": .5})\n",
    "\n"
   ]
  },
  {
   "cell_type": "code",
   "execution_count": null,
   "metadata": {
    "colab": {
     "base_uri": "https://localhost:8080/"
    },
    "id": "LLz9Su96HMYN",
    "outputId": "37c19b78-a923-4d8c-8085-0812d75fffec"
   },
   "outputs": [],
   "source": [
    "corrmat = dataset[1:].corr()\n",
    "mask = np.triu(np.ones_like(corrmat, dtype=bool)) \n",
    "top_corr_features = corrmat.index\n",
    "plt.figure(figsize = (12, 12))\n",
    "\n",
    "sns.heatmap(corrmat,  \n",
    "            mask = mask,\n",
    "            cmap='RdYlGn',\n",
    "            square=True, \n",
    "            linewidth=0.5, \n",
    "            annot = True,\n",
    "            vmax=1,\n",
    "            cbar_kws={\"shrink\": .5})\n"
   ]
  },
  {
   "cell_type": "markdown",
   "metadata": {
    "id": "FSSCG-4tL-t7"
   },
   "source": [
    "#### 5.3) Scattermatrix"
   ]
  },
  {
   "cell_type": "code",
   "execution_count": null,
   "metadata": {
    "id": "sdGvuZzaMxQG"
   },
   "outputs": [],
   "source": [
    "# Filtering the dataset\n",
    "dataset_filter = dataset.drop(['country','gdp per capita','social support','life expectancy',\n",
    "                               'freedom to make choices','generosity','corruption',\n",
    "                               'positive affect','negative affect'], axis = 1)"
   ]
  },
  {
   "cell_type": "code",
   "execution_count": null,
   "metadata": {
    "colab": {
     "base_uri": "https://localhost:8080/"
    },
    "id": "79JxKY8kN9oT",
    "outputId": "f4b2fb21-0cc4-4d74-999f-390bc89d1ccf"
   },
   "outputs": [],
   "source": [
    "# Creating world happines repport scatter\n",
    "dataset_filter_2 = dataset[['life ladder', 'gdp per capita','social support','life expectancy',\n",
    "                               'freedom to make choices','generosity','corruption',\n",
    "                               'positive affect','negative affect']]\n",
    "\n",
    "fig = px.scatter_matrix(dataset_filter_2)\n",
    "fig.update_layout(width = 1500, height = 1400)\n",
    "fig.show()"
   ]
  },
  {
   "cell_type": "code",
   "execution_count": null,
   "metadata": {
    "colab": {
     "base_uri": "https://localhost:8080/"
    },
    "id": "kCqmlM1wL-Qx",
    "outputId": "8f772f76-e2f7-463e-b631-2b851e8f16f5"
   },
   "outputs": [],
   "source": [
    "# Scatter matrix - happyness - mental health variables\n",
    "fig = px.scatter_matrix(dataset_filter)\n",
    "fig.update_layout(width = 1500, height = 1400)\n",
    "fig.show()"
   ]
  },
  {
   "cell_type": "markdown",
   "metadata": {
    "id": "VmnPw-WOPTUj"
   },
   "source": [
    "#### 6.4) Deep dive"
   ]
  },
  {
   "cell_type": "code",
   "execution_count": null,
   "metadata": {},
   "outputs": [],
   "source": [
    "dataset_dist = pd.read_csv('../World-Happiness-Project2/output/dataset.csv')"
   ]
  },
  {
   "cell_type": "code",
   "execution_count": null,
   "metadata": {
    "colab": {
     "base_uri": "https://localhost:8080/"
    },
    "id": "z0U-E26XPbjH",
    "outputId": "87f15365-3ae7-4dab-f5a5-bf491189b6ff"
   },
   "outputs": [],
   "source": [
    "# life ladder x continent\n",
    "plt.figure(figsize = (20, 10))\n",
    "sns.kdeplot(x=dataset_dist.loc[dataset_dist['continent'] != \"No data\"]['life ladder'], hue=dataset_dist.loc[dataset_dist['continent'] != \"No data\"]['continent'], fill=True)"
   ]
  },
  {
   "cell_type": "code",
   "execution_count": null,
   "metadata": {
    "colab": {
     "base_uri": "https://localhost:8080/"
    },
    "id": "VbvC1Fd2Qvl1",
    "outputId": "a1273f18-6222-45fd-c797-3b6d8357c04a"
   },
   "outputs": [],
   "source": [
    "# freedom to make life choices\n",
    "plt.figure(figsize = (20, 10))\n",
    "sns.kdeplot(x=dataset_dist.loc[dataset_dist['continent'] != \"No data\"]['freedom to make life choices'], hue=dataset_dist.loc[dataset_dist['continent'] != \"No data\"]['continent'], fill=True)"
   ]
  },
  {
   "cell_type": "code",
   "execution_count": null,
   "metadata": {
    "colab": {
     "base_uri": "https://localhost:8080/"
    },
    "id": "t6ZfaGw6Q-6K",
    "outputId": "a245154d-1835-4826-b9ec-47aec9926b94"
   },
   "outputs": [],
   "source": [
    "# social support\n",
    "plt.figure(figsize = (20, 10))\n",
    "sns.kdeplot(x=dataset_dist.loc[dataset_dist['continent'] != \"No data\"]['social support'], hue=dataset_dist.loc[dataset_dist['continent'] != \"No data\"]['continent'], fill=True)"
   ]
  },
  {
   "cell_type": "code",
   "execution_count": null,
   "metadata": {
    "colab": {
     "base_uri": "https://localhost:8080/"
    },
    "id": "lfUyov5aRBbW",
    "outputId": "47dbdbea-5225-4d88-b5d6-6fd6ada53f8c"
   },
   "outputs": [],
   "source": [
    "# log gdp per capita\n",
    "plt.figure(figsize = (20, 10))\n",
    "sns.kdeplot(x=dataset_dist.loc[dataset_dist['continent'] != \"No data\"]['log gdp per capita'], hue=dataset_dist.loc[dataset_dist['continent'] != \"No data\"]['continent'], fill=True)"
   ]
  },
  {
   "cell_type": "code",
   "execution_count": null,
   "metadata": {
    "colab": {
     "base_uri": "https://localhost:8080/"
    },
    "id": "Ao-CbWA3RDZt",
    "outputId": "00fc18b8-d5d2-4951-f397-bccdbe9255b2"
   },
   "outputs": [],
   "source": [
    "# healthy life expectancy at birth\n",
    "plt.figure(figsize = (20, 10))\n",
    "sns.kdeplot(x=dataset_dist.loc[dataset_dist['continent'] != \"No data\"]['healthy life expectancy at birth'], hue=dataset_dist.loc[dataset_dist['continent'] != \"No data\"]['continent'], fill=True)"
   ]
  },
  {
   "cell_type": "code",
   "execution_count": null,
   "metadata": {
    "colab": {
     "base_uri": "https://localhost:8080/"
    },
    "id": "n0ASPDnxRItZ",
    "outputId": "d51497d6-0d40-47ff-e428-65b004a130b4"
   },
   "outputs": [],
   "source": [
    "# perceptions of corruption\n",
    "plt.figure(figsize = (20, 10))\n",
    "sns.kdeplot(x=dataset_dist.loc[dataset_dist['continent'] != \"No data\"]['perceptions of corruption'], hue=dataset_dist.loc[dataset_dist['continent'] != \"No data\"]['continent'], fill=True)"
   ]
  },
  {
   "cell_type": "markdown",
   "metadata": {
    "id": "LKrdqpn6R8us"
   },
   "source": [
    "#### 6.5) Analysis"
   ]
  },
  {
   "cell_type": "code",
   "execution_count": null,
   "metadata": {
    "id": "s9KPugN5SE9p"
   },
   "outputs": [],
   "source": [
    "# Clean\n",
    "dataset = dataset.loc[(dataset['total suicide rate'] < 70) & (dataset['drug use'] < 2)]"
   ]
  },
  {
   "cell_type": "code",
   "execution_count": null,
   "metadata": {
    "colab": {
     "base_uri": "https://localhost:8080/",
     "height": 517
    },
    "id": "PCQBkuAZR_dJ",
    "outputId": "b013897e-bd21-47f0-d69a-81553359a420"
   },
   "outputs": [],
   "source": [
    "# life ladder x total suicide rate\n",
    "fig = px.scatter(dataset, x=\"life ladder\", y=\"total suicide rate\", trendline = 'ols',trendline_color_override=\"red\")\n",
    "fig.update_layout(width = 1000, height = 500)\n",
    "fig.show()"
   ]
  },
  {
   "cell_type": "code",
   "execution_count": null,
   "metadata": {
    "colab": {
     "base_uri": "https://localhost:8080/",
     "height": 517
    },
    "id": "4V4bFjlcSaPU",
    "outputId": "d9537ccf-bb4e-487b-f269-898f4d262ee7"
   },
   "outputs": [],
   "source": [
    "# life ladder x average yearly temperature (1961–1990 celsius)\n",
    "fig = px.scatter(dataset, x=\"life ladder\", y=\"average temperature\", trendline = 'ols', trendline_color_override=\"red\")\n",
    "fig.update_layout(width = 1000, height = 500)\n",
    "fig.show()"
   ]
  },
  {
   "cell_type": "code",
   "execution_count": null,
   "metadata": {
    "colab": {
     "base_uri": "https://localhost:8080/",
     "height": 517
    },
    "id": "CwymUby1Shg8",
    "outputId": "26eed75a-be97-46a7-e703-95808290fb08"
   },
   "outputs": [],
   "source": [
    "# life ladder x inequality\n",
    "fig = px.scatter(dataset, x=\"life ladder\", y=\"inequality\", trendline = 'ols', trendline_color_override=\"red\")\n",
    "fig.update_layout(width = 1000, height = 500)\n",
    "fig.show()"
   ]
  },
  {
   "cell_type": "code",
   "execution_count": null,
   "metadata": {
    "colab": {
     "base_uri": "https://localhost:8080/",
     "height": 517
    },
    "id": "v8CSaeU7Sy89",
    "outputId": "2b4c7612-9d51-4228-e00d-813748265e56"
   },
   "outputs": [],
   "source": [
    "# life ladder x anxiety disorders\n",
    "fig = px.scatter(dataset, x=\"life ladder\", y=\"anxiety disorders\", trendline = 'ols', trendline_color_override=\"red\")\n",
    "fig.update_layout(width = 1000, height = 500)\n",
    "fig.show()"
   ]
  },
  {
   "cell_type": "code",
   "execution_count": null,
   "metadata": {
    "colab": {
     "base_uri": "https://localhost:8080/",
     "height": 517
    },
    "id": "LD0-fQshTQ4o",
    "outputId": "85902d0e-5599-4d22-d00b-aba6a4404e7b"
   },
   "outputs": [],
   "source": [
    "# life ladder x drug use disorders\n",
    "fig = px.scatter(dataset, x=\"life ladder\", y=\"drug use\", trendline = 'ols', trendline_color_override=\"red\")\n",
    "fig.update_layout(width = 1000, height = 500)\n",
    "fig.show()"
   ]
  },
  {
   "cell_type": "code",
   "execution_count": null,
   "metadata": {
    "colab": {
     "base_uri": "https://localhost:8080/",
     "height": 517
    },
    "id": "Kqw9S-awTSqB",
    "outputId": "32709d5e-df17-417c-db7b-82a375d3ae06"
   },
   "outputs": [],
   "source": [
    "# life ladder x depression\n",
    "fig = px.scatter(dataset, x=\"life ladder\", y=\"depression\", trendline = 'ols', trendline_color_override=\"red\")\n",
    "fig.update_layout(width = 1000, height = 500)\n",
    "fig.show()"
   ]
  },
  {
   "cell_type": "code",
   "execution_count": null,
   "metadata": {
    "colab": {
     "base_uri": "https://localhost:8080/",
     "height": 517
    },
    "id": "0EcRo3U2TU6V",
    "outputId": "df36c122-1ea0-4ae6-b467-026c7ac17650"
   },
   "outputs": [],
   "source": [
    "# life ladder x alcohol use disorders\n",
    "fig = px.scatter(dataset, x=\"life ladder\", y=\"alcohol use\", trendline = 'ols', trendline_color_override=\"red\")\n",
    "fig.update_layout(width = 1000, height = 500)\n",
    "fig.show()"
   ]
  },
  {
   "cell_type": "code",
   "execution_count": null,
   "metadata": {},
   "outputs": [],
   "source": []
  }
 ],
 "metadata": {
  "colab": {
   "name": "Projeto_Ju.ipynb",
   "provenance": []
  },
  "kernelspec": {
   "display_name": "Python 3 (ipykernel)",
   "language": "python",
   "name": "python3"
  },
  "language_info": {
   "codemirror_mode": {
    "name": "ipython",
    "version": 3
   },
   "file_extension": ".py",
   "mimetype": "text/x-python",
   "name": "python",
   "nbconvert_exporter": "python",
   "pygments_lexer": "ipython3",
   "version": "3.8.13"
  }
 },
 "nbformat": 4,
 "nbformat_minor": 1
}
